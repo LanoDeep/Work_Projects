{
 "cells": [
  {
   "cell_type": "code",
   "execution_count": null,
   "metadata": {},
   "outputs": [],
   "source": [
    "import pandas as pd\n",
    "import seaborn as sns\n",
    "import matplotlib.pyplot as pltpip \n"
   ]
  },
  {
   "cell_type": "code",
   "execution_count": null,
   "metadata": {},
   "outputs": [],
   "source": [
    "#load dataset \n",
    "df = pd.read_csv('sales_data.csv')\n",
    "df\n"
   ]
  },
  {
   "cell_type": "code",
   "execution_count": 145,
   "metadata": {},
   "outputs": [
    {
     "data": {
      "text/html": [
       "<div>\n",
       "<style scoped>\n",
       "    .dataframe tbody tr th:only-of-type {\n",
       "        vertical-align: middle;\n",
       "    }\n",
       "\n",
       "    .dataframe tbody tr th {\n",
       "        vertical-align: top;\n",
       "    }\n",
       "\n",
       "    .dataframe thead th {\n",
       "        text-align: right;\n",
       "    }\n",
       "</style>\n",
       "<table border=\"1\" class=\"dataframe\">\n",
       "  <thead>\n",
       "    <tr style=\"text-align: right;\">\n",
       "      <th></th>\n",
       "      <th>Date</th>\n",
       "      <th>Region</th>\n",
       "      <th>Product Category</th>\n",
       "      <th>Units Sold</th>\n",
       "      <th>Revenue</th>\n",
       "      <th>Profit Margin (%)</th>\n",
       "      <th>Customer Type</th>\n",
       "    </tr>\n",
       "  </thead>\n",
       "  <tbody>\n",
       "    <tr>\n",
       "      <th>0</th>\n",
       "      <td>2023-04-13</td>\n",
       "      <td>East</td>\n",
       "      <td>Electronics</td>\n",
       "      <td>18</td>\n",
       "      <td>761</td>\n",
       "      <td>9.82</td>\n",
       "      <td>New</td>\n",
       "    </tr>\n",
       "    <tr>\n",
       "      <th>1</th>\n",
       "      <td>2023-12-15</td>\n",
       "      <td>South</td>\n",
       "      <td>Toys</td>\n",
       "      <td>25</td>\n",
       "      <td>4744</td>\n",
       "      <td>24.52</td>\n",
       "      <td>Returning</td>\n",
       "    </tr>\n",
       "    <tr>\n",
       "      <th>2</th>\n",
       "      <td>2023-09-28</td>\n",
       "      <td>North</td>\n",
       "      <td>Clothing</td>\n",
       "      <td>12</td>\n",
       "      <td>411</td>\n",
       "      <td>21.03</td>\n",
       "      <td>Returning</td>\n",
       "    </tr>\n",
       "    <tr>\n",
       "      <th>3</th>\n",
       "      <td>2023-04-17</td>\n",
       "      <td>West</td>\n",
       "      <td>Clothing</td>\n",
       "      <td>15</td>\n",
       "      <td>3020</td>\n",
       "      <td>24.19</td>\n",
       "      <td>Returning</td>\n",
       "    </tr>\n",
       "    <tr>\n",
       "      <th>4</th>\n",
       "      <td>2023-03-13</td>\n",
       "      <td>West</td>\n",
       "      <td>Electronics</td>\n",
       "      <td>26</td>\n",
       "      <td>1182</td>\n",
       "      <td>14.76</td>\n",
       "      <td>New</td>\n",
       "    </tr>\n",
       "  </tbody>\n",
       "</table>\n",
       "</div>"
      ],
      "text/plain": [
       "         Date Region Product Category  Units Sold  Revenue  Profit Margin (%)  \\\n",
       "0  2023-04-13   East      Electronics          18      761               9.82   \n",
       "1  2023-12-15  South             Toys          25     4744              24.52   \n",
       "2  2023-09-28  North         Clothing          12      411              21.03   \n",
       "3  2023-04-17   West         Clothing          15     3020              24.19   \n",
       "4  2023-03-13   West      Electronics          26     1182              14.76   \n",
       "\n",
       "  Customer Type  \n",
       "0           New  \n",
       "1     Returning  \n",
       "2     Returning  \n",
       "3     Returning  \n",
       "4           New  "
      ]
     },
     "execution_count": 145,
     "metadata": {},
     "output_type": "execute_result"
    }
   ],
   "source": [
    "#check first few rows of data\n",
    "df.head()\n"
   ]
  },
  {
   "cell_type": "code",
   "execution_count": 146,
   "metadata": {},
   "outputs": [
    {
     "data": {
      "text/html": [
       "<div>\n",
       "<style scoped>\n",
       "    .dataframe tbody tr th:only-of-type {\n",
       "        vertical-align: middle;\n",
       "    }\n",
       "\n",
       "    .dataframe tbody tr th {\n",
       "        vertical-align: top;\n",
       "    }\n",
       "\n",
       "    .dataframe thead th {\n",
       "        text-align: right;\n",
       "    }\n",
       "</style>\n",
       "<table border=\"1\" class=\"dataframe\">\n",
       "  <thead>\n",
       "    <tr style=\"text-align: right;\">\n",
       "      <th></th>\n",
       "      <th>Units Sold</th>\n",
       "      <th>Revenue</th>\n",
       "      <th>Profit Margin (%)</th>\n",
       "    </tr>\n",
       "  </thead>\n",
       "  <tbody>\n",
       "    <tr>\n",
       "      <th>mean</th>\n",
       "      <td>25.158000</td>\n",
       "      <td>2565.624000</td>\n",
       "      <td>15.19228</td>\n",
       "    </tr>\n",
       "    <tr>\n",
       "      <th>median</th>\n",
       "      <td>25.000000</td>\n",
       "      <td>2598.500000</td>\n",
       "      <td>15.47000</td>\n",
       "    </tr>\n",
       "    <tr>\n",
       "      <th>std</th>\n",
       "      <td>13.812698</td>\n",
       "      <td>1413.019626</td>\n",
       "      <td>5.78963</td>\n",
       "    </tr>\n",
       "    <tr>\n",
       "      <th>min</th>\n",
       "      <td>1.000000</td>\n",
       "      <td>101.000000</td>\n",
       "      <td>5.06000</td>\n",
       "    </tr>\n",
       "    <tr>\n",
       "      <th>max</th>\n",
       "      <td>49.000000</td>\n",
       "      <td>4995.000000</td>\n",
       "      <td>24.97000</td>\n",
       "    </tr>\n",
       "    <tr>\n",
       "      <th>count</th>\n",
       "      <td>500.000000</td>\n",
       "      <td>500.000000</td>\n",
       "      <td>500.00000</td>\n",
       "    </tr>\n",
       "  </tbody>\n",
       "</table>\n",
       "</div>"
      ],
      "text/plain": [
       "        Units Sold      Revenue  Profit Margin (%)\n",
       "mean     25.158000  2565.624000           15.19228\n",
       "median   25.000000  2598.500000           15.47000\n",
       "std      13.812698  1413.019626            5.78963\n",
       "min       1.000000   101.000000            5.06000\n",
       "max      49.000000  4995.000000           24.97000\n",
       "count   500.000000   500.000000          500.00000"
      ]
     },
     "execution_count": 146,
     "metadata": {},
     "output_type": "execute_result"
    }
   ],
   "source": [
    "#Get summary statistics(mean, median, standard deviation)\n",
    "#An aggregating function is a type of function used in data analysis and database management to perform a calculation on a set of values and return a single value\n",
    "df.agg(\n",
    "    { \n",
    "        \"Units Sold\" : [\"mean\", \"median\", \"std\", \"min\", \"max\", \"count\"],\n",
    "        \"Revenue\" : [\"mean\", \"median\", \"std\", \"min\", \"max\", \"count\"],\n",
    "        \"Profit Margin (%)\": [\"mean\", \"median\", \"std\", \"min\", \"max\", \"count\"],\n",
    "\n",
    "\n",
    "    }\n",
    ")"
   ]
  },
  {
   "cell_type": "code",
   "execution_count": 147,
   "metadata": {},
   "outputs": [
    {
     "name": "stdout",
     "output_type": "stream",
     "text": [
      "<class 'pandas.core.frame.DataFrame'>\n",
      "RangeIndex: 500 entries, 0 to 499\n",
      "Data columns (total 7 columns):\n",
      " #   Column             Non-Null Count  Dtype  \n",
      "---  ------             --------------  -----  \n",
      " 0   Date               500 non-null    object \n",
      " 1   Region             500 non-null    object \n",
      " 2   Product Category   500 non-null    object \n",
      " 3   Units Sold         500 non-null    int64  \n",
      " 4   Revenue            500 non-null    int64  \n",
      " 5   Profit Margin (%)  500 non-null    float64\n",
      " 6   Customer Type      500 non-null    object \n",
      "dtypes: float64(1), int64(2), object(4)\n",
      "memory usage: 27.5+ KB\n"
     ]
    }
   ],
   "source": [
    "#check datatypes, null values\n",
    "df.info()"
   ]
  },
  {
   "cell_type": "code",
   "execution_count": 148,
   "metadata": {},
   "outputs": [
    {
     "name": "stdout",
     "output_type": "stream",
     "text": [
      "      Date  Region  Product Category  Units Sold  Revenue  Profit Margin (%)  \\\n",
      "0    False   False             False       False    False              False   \n",
      "1    False   False             False       False    False              False   \n",
      "2    False   False             False       False    False              False   \n",
      "3    False   False             False       False    False              False   \n",
      "4    False   False             False       False    False              False   \n",
      "..     ...     ...               ...         ...      ...                ...   \n",
      "495  False   False             False       False    False              False   \n",
      "496  False   False             False       False    False              False   \n",
      "497  False   False             False       False    False              False   \n",
      "498  False   False             False       False    False              False   \n",
      "499  False   False             False       False    False              False   \n",
      "\n",
      "     Customer Type  \n",
      "0            False  \n",
      "1            False  \n",
      "2            False  \n",
      "3            False  \n",
      "4            False  \n",
      "..             ...  \n",
      "495          False  \n",
      "496          False  \n",
      "497          False  \n",
      "498          False  \n",
      "499          False  \n",
      "\n",
      "[500 rows x 7 columns]\n"
     ]
    }
   ],
   "source": [
    "\n",
    "#checking for missing values using isnull()\n",
    "df = pd.read_csv(\"sales_data.csv\")\n",
    "missing_values = df.isnull()\n",
    "print(missing_values)\n",
    "\n"
   ]
  },
  {
   "cell_type": "code",
   "execution_count": 149,
   "metadata": {},
   "outputs": [
    {
     "data": {
      "image/png": "[encoded data removed]",
      "text/plain": [
       "<Figure size 640x480 with 1 Axes>"
      ]
     },
     "metadata": {},
     "output_type": "display_data"
    },
    {
     "data": {
      "image/png": "[encoded data removed]",
      "text/plain": [
       "<Figure size 640x480 with 1 Axes>"
      ]
     },
     "metadata": {},
     "output_type": "display_data"
    },
    {
     "data": {
      "image/png": "[encoded data removed]",
      "text/plain": [
       "<Figure size 640x480 with 1 Axes>"
      ]
     },
     "metadata": {},
     "output_type": "display_data"
    }
   ],
   "source": [
    "#Identify and handle outliers\n",
    "plt.boxplot(df['Units Sold'])\n",
    "plt.show()\n",
    "plt.boxplot(df['Revenue'])\n",
    "plt.show()\n",
    "plt.boxplot(df['Profit Margin (%)'])\n",
    "plt.show()"
   ]
  },
  {
   "cell_type": "code",
   "execution_count": 150,
   "metadata": {},
   "outputs": [
    {
     "data": {
      "text/plain": [
       "<Axes: >"
      ]
     },
     "execution_count": 150,
     "metadata": {},
     "output_type": "execute_result"
    },
    {
     "data": {
      "image/png": "[encoded data removed]",
      "text/plain": [
       "<Figure size 640x480 with 1 Axes>"
      ]
     },
     "metadata": {},
     "output_type": "display_data"
    }
   ],
   "source": [
    "#Univariate and multivariate analysis\n",
    "#Generate boxplots for numerical variables\n",
    "sns.boxplot(df)"
   ]
  },
  {
   "cell_type": "code",
   "execution_count": 151,
   "metadata": {},
   "outputs": [
    {
     "data": {
      "text/plain": [
       "<Axes: ylabel='Count'>"
      ]
     },
     "execution_count": 151,
     "metadata": {},
     "output_type": "execute_result"
    },
    {
     "data": {
      "image/png": "[encoded data removed]",
      "text/plain": [
       "<Figure size 640x480 with 1 Axes>"
      ]
     },
     "metadata": {},
     "output_type": "display_data"
    }
   ],
   "source": [
    "#Generate histrogram for numeerical variables\n",
    "\n",
    "sns.histplot(df)"
   ]
  },
  {
   "cell_type": "code",
   "execution_count": 152,
   "metadata": {},
   "outputs": [
    {
     "data": {
      "text/plain": [
       "<Axes: >"
      ]
     },
     "execution_count": 152,
     "metadata": {},
     "output_type": "execute_result"
    },
    {
     "data": {
      "image/png": "[encoded data removed]",
      "text/plain": [
       "<Figure size 640x480 with 1 Axes>"
      ]
     },
     "metadata": {},
     "output_type": "display_data"
    }
   ],
   "source": [
    "#Create bar charts to visualise the distribution of categorical variables\n",
    "sns.barplot(df)"
   ]
  },
  {
   "cell_type": "code",
   "execution_count": 153,
   "metadata": {},
   "outputs": [
    {
     "name": "stdout",
     "output_type": "stream",
     "text": [
      "df is : \n",
      "     Units Sold  Revenue  Profit Margin (%)\n",
      "0            18      761               9.82\n",
      "1            25     4744              24.52\n",
      "2            12      411              21.03\n",
      "3            15     3020              24.19\n",
      "4            26     1182              14.76\n",
      "..          ...      ...                ...\n",
      "495          44     4937              16.98\n",
      "496          18     2808               7.30\n",
      "497           6     1000               6.88\n",
      "498          18     3184              23.19\n",
      "499          19     2109              18.38\n",
      "\n",
      "[500 rows x 3 columns]\n"
     ]
    }
   ],
   "source": [
    "#from dataframe \n",
    "#Use correlation matrices to analyses relationships between numerical variables\n",
    "df= pd.DataFrame(df, columns=['Units Sold', 'Revenue', 'Profit Margin (%)'])\n",
    "print('df is : ')\n",
    "print(df)"
   ]
  },
  {
   "cell_type": "code",
   "execution_count": null,
   "metadata": {},
   "outputs": [],
   "source": [
    "#from correlation matrix\n",
    "matrix = df.corr()\n",
    "print(\"Correlation matrix is : \")"
   ]
  },
  {
   "cell_type": "code",
   "execution_count": null,
   "metadata": {},
   "outputs": [],
   "source": [
    "print(matrix)"
   ]
  },
  {
   "cell_type": "code",
   "execution_count": null,
   "metadata": {},
   "outputs": [],
   "source": [
    "#Generate heatmaps to identify high-performing regions\n",
    "plt.figure(figsize=(12, 6))\n",
    "sns.heatmap(matrix, annot=True, cmap=\"coolwarm\", linewidths=0.5)\n",
    "plt.title(\"Correlation Matrix\")\n",
    "plt.show()"
   ]
  },
  {
   "cell_type": "code",
   "execution_count": null,
   "metadata": {},
   "outputs": [],
   "source": [
    "#Create line charts to show sales trends over time\n",
    "import matplotlib.pyplot as plt\n",
    "\n",
    "#plot the sales trends over time\n",
    "df.plot(x='Date', y=['Units Sold'])\n",
    "\n",
    "#set the x-axis label\n",
    "plt.xlabel('Date')\n",
    "\n",
    "#set the y-axis label\n",
    "plt.ylabel('Units Sold')\n",
    "\n",
    "#set the title of the plot\n",
    "plt.title('The sales trends over time') \n",
    "\n",
    "#Display the plot \n",
    "plt.show()\n",
    "\n",
    "\n",
    "\n"
   ]
  },
  {
   "cell_type": "code",
   "execution_count": null,
   "metadata": {},
   "outputs": [],
   "source": [
    "#scatter plot to analyse revenue vs. profit margin.\n",
    "import numpy as np \n",
    "\n",
    "x = np.array(df['Units Sold'])\n",
    "y = np.array(df['Profit Margin (%)'])\n",
    " \n",
    "plt.xlabel('Revenue')\n",
    "plt.ylabel('Profit Margin (%)')\n",
    "\n",
    "plt.title('Analyzing revenue vs profit margin')\n",
    "\n",
    "plt.scatter(x,y)\n",
    "plt.show()"
   ]
  },
  {
   "cell_type": "code",
   "execution_count": null,
   "metadata": {},
   "outputs": [],
   "source": [
    "#Build bar plots showing product category performance across different regions\n",
    "import matplotlib.pyplot as plt\n",
    "\n",
    "plt.figure(figsize=(10, 6))\n",
    "\n",
    "# Create a bar plot\n",
    "sns.barplot(x='Product Category', y='Region', data=df)\n",
    "\n",
    "\n",
    "#set the x-axis label \n",
    "plt.xlabel('Product Category')\n",
    "\n",
    "#set the y-axis label\n",
    "plt.ylabel('Region')\n",
    "\n",
    "#set the title of the plot \n",
    "plt.title('product category performance across different regions')\n",
    "\n",
    "#display the plot\n",
    "plt.show()"
   ]
  },
  {
   "cell_type": "code",
   "execution_count": null,
   "metadata": {},
   "outputs": [],
   "source": [
    "#identify the best-performing region based on revenue and profit\n",
    "#grouping the regions\n",
    "regionS = df[df['Region'] == 'South']\n",
    "regionN = df[df['Region'] == 'North']\n",
    "regionW = df[df['Region'] == 'West']\n",
    "regionE = df[df['Region'] == 'East']\n",
    " \n",
    "#getting the sums\n",
    "regionS_revenue = regionS['Revenue'].sum()\n",
    "regionS_profit = regionS['Profit Margin (%)'].sum()\n",
    " \n",
    "regionN_revenue = regionN['Revenue'].sum()\n",
    "regionN_profit = regionN['Profit Margin (%)'].sum()\n",
    " \n",
    "regionW_revenue = regionW['Revenue'].sum()\n",
    "regionW_profit = regionW['Profit Margin (%)'].sum()\n",
    " \n",
    "regionE_revenue = regionE['Revenue'].sum()\n",
    "regionE_profit = regionE['Profit Margin (%)'].sum()\n",
    " \n",
    " \n",
    "#grouping\n",
    "region_results = df.groupby('Region')[['Revenue', 'Profit Margin (%)']].sum()\n",
    " \n",
    "#determining the best region per metric\n",
    "best_revenue = region_results['Revenue'].idxmax()\n",
    "best_profit = region_results['Profit Margin (%)'].idxmax()\n",
    " \n",
    "print(best_revenue)\n",
    "print(best_profit)\n",
    " "
   ]
  },
  {
   "cell_type": "code",
   "execution_count": null,
   "metadata": {},
   "outputs": [],
   "source": [
    "#Find which product category generates the highest revenue\n",
    "#Group by Product Category and sum the revenue\n",
    "category_revenue = df.groupby('Product Category')['Revenue'].sum().reset_index()\n",
    "\n",
    "# Display results\n",
    "print(category_revenue)\n",
    "\n",
    "# Find the product category with the highest revenue\n",
    "best_category = category_revenue.loc[category_revenue['Revenue'].idxmax(), 'Product Category']\n",
    "best_revenue = category_revenue['Revenue'].max()\n",
    "\n",
    "print(f\"The highest revenue-generating product category is: {best_category} with revenue of {best_revenue}\")\n",
    "\n",
    "plt.figure(figsize=(10, 5))\n",
    "\n",
    "# Create a bar plot\n",
    "sns.barplot(x='Product Category', y='Revenue', data=category_revenue, palette='viridis')\n",
    "\n",
    "# Add labels and title\n",
    "plt.xlabel('Product Category')\n",
    "plt.ylabel('Revenue')\n",
    "plt.title('Revenue by Product Category')\n",
    "\n",
    "# Show the plot\n",
    "plt.show()\n",
    "\n"
   ]
  }
 ],
 "metadata": {
  "kernelspec": {
   "display_name": "Python 3",
   "language": "python",
   "name": "python3"
  },
  "language_info": {
   "codemirror_mode": {
    "name": "ipython",
    "version": 3
   },
   "file_extension": ".py",
   "mimetype": "text/x-python",
   "name": "python",
   "nbconvert_exporter": "python",
   "pygments_lexer": "ipython3",
   "version": "3.11.4"
  }
 },
 "nbformat": 4,
 "nbformat_minor": 2
}
