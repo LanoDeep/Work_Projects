{
 "cells": [
  {
   "cell_type": "code",
   "execution_count": 2,
   "metadata": {},
   "outputs": [],
   "source": [
    "import pandas as pd\n"
   ]
  },
  {
   "cell_type": "code",
   "execution_count": 3,
   "metadata": {},
   "outputs": [],
   "source": [
    "#LOADING DATASET\n",
    "df = pd.read_csv('messy_dataset.csv')"
   ]
  },
  {
   "cell_type": "code",
   "execution_count": null,
   "metadata": {},
   "outputs": [],
   "source": [
    "\n",
    "print(\"Original Data:\")\n",
    "df"
   ]
  },
  {
   "cell_type": "code",
   "execution_count": null,
   "metadata": {},
   "outputs": [],
   "source": [
    "#WORKING THROUGH THE AGE COLUMN\n",
    "df['Age'] = df['Age'].fillna(df['Age'].mean())\n",
    "df['Age'] = df['Age'].astype('int64')\n",
    "df\n",
    "df['Age'] = df['Age'].astype(int)\n",
    "df"
   ]
  },
  {
   "cell_type": "code",
   "execution_count": null,
   "metadata": {},
   "outputs": [],
   "source": [
    "#WORKING THROUGH THE EMAIL COLUMN\n",
    "df['Email'] = df['Email'].str.lower()\n",
    "df.at[0, 'Email'] = 'eve@example.com'\n",
    "df.loc[df['Name'] == 'David', 'Email'] = df.loc[df['Name'] == 'David', 'Email'].str.replace('example', 'example.com')\n",
    "df['Email'] = df['Email'].drop_duplicates()\n",
    "df"
   ]
  },
  {
   "cell_type": "code",
   "execution_count": null,
   "metadata": {},
   "outputs": [],
   "source": [
    "#WORKING THROUGH THE SALARY COLUMN\n",
    "df['Salary ($)'] = df['Salary ($)'].astype(str).str.replace(',', '')\n",
    "df['Salary ($)'] = df['Salary ($)'].str.replace('$', '')\n",
    "df\n"
   ]
  },
  {
   "cell_type": "code",
   "execution_count": null,
   "metadata": {},
   "outputs": [],
   "source": [
    "#WORKING THROUGH THE JOINING DATE COLUMN\n",
    "df['Joining Date'] = df['Joining Date'].str.replace('-', '')\n",
    "df.at[0, 'Joining Date'] = df.at[0, 'Joining Date'].replace('/', '')\n",
    "\n",
    "df.at[0, 'Joining Date'] = pd.to_datetime(df.at[0, 'Joining Date'], format='%d%m%Y').strftime('%d-%m-%Y')\n",
    "df.at[1, 'Joining Date'] = pd.to_datetime(df.at[1, 'Joining Date'], format='%Y%m%d').strftime('%d-%m-%Y')\n",
    "df.at[2, 'Joining Date'] = pd.to_datetime(df.at[2, 'Joining Date'], format='%d%m%Y').strftime('%d-%m-%Y')\n",
    "df.at[3, 'Joining Date'] = pd.to_datetime(df.at[3, 'Joining Date'], format='%Y%m%d').strftime('%d-%m-%Y')\n",
    "df.at[7, 'Joining Date'] = pd.to_datetime(df.at[7, 'Joining Date'], format='%B %d, %Y').strftime('%d-%m-%Y')\n",
    "df\n",
    "\n"
   ]
  },
  {
   "cell_type": "code",
   "execution_count": null,
   "metadata": {},
   "outputs": [],
   "source": [
    "#ELIMINATING DUPLICATES\n",
    "df = df.dropna()\n",
    "df['Name'] = df['Name'].drop_duplicates()\n",
    "df = df.dropna()\n",
    "df\n"
   ]
  },
  {
   "cell_type": "code",
   "execution_count": 10,
   "metadata": {},
   "outputs": [],
   "source": [
    "df.to_csv('cleaned_file.csv', index=False)"
   ]
  },
  {
   "cell_type": "code",
   "execution_count": null,
   "metadata": {},
   "outputs": [],
   "source": [
    "\n",
    "print(\"Cleaned_Data:\")\n",
    "print(df.head())\n"
   ]
  }
 ],
 "metadata": {
  "kernelspec": {
   "display_name": "Python 3",
   "language": "python",
   "name": "python3"
  },
  "language_info": {
   "codemirror_mode": {
    "name": "ipython",
    "version": 3
   },
   "file_extension": ".py",
   "mimetype": "text/x-python",
   "name": "python",
   "nbconvert_exporter": "python",
   "pygments_lexer": "ipython3",
   "version": "3.13.2"
  }
 },
 "nbformat": 4,
 "nbformat_minor": 2
}
