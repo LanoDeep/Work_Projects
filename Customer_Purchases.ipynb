{
 "cells": [
  {
   "cell_type": "code",
   "execution_count": 56,
   "metadata": {},
   "outputs": [],
   "source": [
    "import pandas as pd\n",
    "import numpy as np\n",
    "from scipy import stats\n",
    "import matplotlib.pyplot as plt\n",
    "import seaborn as sns\n",
    "from sklearn.preprocessing import MinMaxScaler, StandardScaler\n",
    "from sklearn.model_selection import train_test_split\n",
    "from sklearn.preprocessing import OneHotEncoder, LabelEncoder"
   ]
  },
  {
   "cell_type": "code",
   "execution_count": 57,
   "metadata": {},
   "outputs": [
    {
     "name": "stdout",
     "output_type": "stream",
     "text": [
      "   Unnamed: 0  Customer_ID   Age   Salary      City  Gender  Purchase_Amount  \\\n",
      "0           0            1  40.0  70000.0  New York     NaN              619   \n",
      "1           1            2  45.0  30000.0   Houston  Female             1945   \n",
      "2           2            3  35.0  30000.0  New York    Male             2783   \n",
      "3           3            4  45.0  30000.0       NaN   Other             3913   \n",
      "4           4            5  45.0  30000.0  New York    Male             4771   \n",
      "\n",
      "  Signup_Date Marital_Status Education  \n",
      "0  2022-01-01        Widowed       PhD  \n",
      "1  2022-01-02         Single       PhD  \n",
      "2  2022-01-03            NaN    Master  \n",
      "3  2022-01-04        Married  Bachelor  \n",
      "4  2022-01-05        Married       NaN  \n"
     ]
    }
   ],
   "source": [
    "df = pd.read_csv('Raw_Dataset_with_Issues.csv')\n",
    "print(df.head())"
   ]
  },
  {
   "cell_type": "code",
   "execution_count": 58,
   "metadata": {},
   "outputs": [
    {
     "name": "stdout",
     "output_type": "stream",
     "text": [
      "Columns with missing values: ['Age', 'Salary', 'City', 'Gender', 'Marital_Status', 'Education']\n"
     ]
    },
    {
     "name": "stderr",
     "output_type": "stream",
     "text": [
      "C:\\Users\\CAPACITI-JHB\\AppData\\Local\\Temp\\ipykernel_5240\\3118776029.py:7: FutureWarning: A value is trying to be set on a copy of a DataFrame or Series through chained assignment using an inplace method.\n",
      "The behavior will change in pandas 3.0. This inplace method will never work because the intermediate object on which we are setting values always behaves as a copy.\n",
      "\n",
      "For example, when doing 'df[col].method(value, inplace=True)', try using 'df.method({col: value}, inplace=True)' or df[col] = df[col].method(value) instead, to perform the operation inplace on the original object.\n",
      "\n",
      "\n",
      "  df_mean_filled['Age'].fillna(df_mean_filled['Age'].mean(), inplace=True)\n",
      "C:\\Users\\CAPACITI-JHB\\AppData\\Local\\Temp\\ipykernel_5240\\3118776029.py:8: FutureWarning: A value is trying to be set on a copy of a DataFrame or Series through chained assignment using an inplace method.\n",
      "The behavior will change in pandas 3.0. This inplace method will never work because the intermediate object on which we are setting values always behaves as a copy.\n",
      "\n",
      "For example, when doing 'df[col].method(value, inplace=True)', try using 'df.method({col: value}, inplace=True)' or df[col] = df[col].method(value) instead, to perform the operation inplace on the original object.\n",
      "\n",
      "\n",
      "  df_mean_filled['Salary'].fillna(df_mean_filled['Salary'].mean(), inplace=True)\n",
      "C:\\Users\\CAPACITI-JHB\\AppData\\Local\\Temp\\ipykernel_5240\\3118776029.py:9: FutureWarning: A value is trying to be set on a copy of a DataFrame or Series through chained assignment using an inplace method.\n",
      "The behavior will change in pandas 3.0. This inplace method will never work because the intermediate object on which we are setting values always behaves as a copy.\n",
      "\n",
      "For example, when doing 'df[col].method(value, inplace=True)', try using 'df.method({col: value}, inplace=True)' or df[col] = df[col].method(value) instead, to perform the operation inplace on the original object.\n",
      "\n",
      "\n",
      "  df_mean_filled['City'].fillna('Unknown', inplace=True)\n",
      "C:\\Users\\CAPACITI-JHB\\AppData\\Local\\Temp\\ipykernel_5240\\3118776029.py:10: FutureWarning: A value is trying to be set on a copy of a DataFrame or Series through chained assignment using an inplace method.\n",
      "The behavior will change in pandas 3.0. This inplace method will never work because the intermediate object on which we are setting values always behaves as a copy.\n",
      "\n",
      "For example, when doing 'df[col].method(value, inplace=True)', try using 'df.method({col: value}, inplace=True)' or df[col] = df[col].method(value) instead, to perform the operation inplace on the original object.\n",
      "\n",
      "\n",
      "  df_mean_filled['Gender'].fillna('Unknown', inplace=True)\n",
      "C:\\Users\\CAPACITI-JHB\\AppData\\Local\\Temp\\ipykernel_5240\\3118776029.py:11: FutureWarning: A value is trying to be set on a copy of a DataFrame or Series through chained assignment using an inplace method.\n",
      "The behavior will change in pandas 3.0. This inplace method will never work because the intermediate object on which we are setting values always behaves as a copy.\n",
      "\n",
      "For example, when doing 'df[col].method(value, inplace=True)', try using 'df.method({col: value}, inplace=True)' or df[col] = df[col].method(value) instead, to perform the operation inplace on the original object.\n",
      "\n",
      "\n",
      "  df_mean_filled['Marital_Status'].fillna('Unknown', inplace=True)\n",
      "C:\\Users\\CAPACITI-JHB\\AppData\\Local\\Temp\\ipykernel_5240\\3118776029.py:12: FutureWarning: A value is trying to be set on a copy of a DataFrame or Series through chained assignment using an inplace method.\n",
      "The behavior will change in pandas 3.0. This inplace method will never work because the intermediate object on which we are setting values always behaves as a copy.\n",
      "\n",
      "For example, when doing 'df[col].method(value, inplace=True)', try using 'df.method({col: value}, inplace=True)' or df[col] = df[col].method(value) instead, to perform the operation inplace on the original object.\n",
      "\n",
      "\n",
      "  df_mean_filled['Education'].fillna('Unknown', inplace=True)\n"
     ]
    }
   ],
   "source": [
    "#1. IDENTIFYING MISSING VALUES\n",
    "missing_columns = df.columns[df.isnull().any()].tolist()\n",
    "print(f\"Columns with missing values: {missing_columns}\")\n",
    "\n",
    "#FILLING MISSING VALUES\n",
    "df_mean_filled = df.copy()\n",
    "df_mean_filled['Age'].fillna(df_mean_filled['Age'].mean(), inplace=True)\n",
    "df_mean_filled['Salary'].fillna(df_mean_filled['Salary'].mean(), inplace=True)\n",
    "df_mean_filled['City'].fillna('Unknown', inplace=True)\n",
    "df_mean_filled['Gender'].fillna('Unknown', inplace=True)\n",
    "df_mean_filled['Marital_Status'].fillna('Unknown', inplace=True)\n",
    "df_mean_filled['Education'].fillna('Unknown', inplace=True)"
   ]
  },
  {
   "cell_type": "code",
   "execution_count": 59,
   "metadata": {},
   "outputs": [
    {
     "name": "stdout",
     "output_type": "stream",
     "text": [
      "\n",
      "Duplicate Rows:\n",
      "     Unnamed: 0  Customer_ID   Age   Salary      City  Gender  \\\n",
      "100           0            1  40.0  70000.0  New York     NaN   \n",
      "101           1            2  45.0  30000.0   Houston  Female   \n",
      "102           2            3  35.0  30000.0  New York    Male   \n",
      "103           3            4  45.0  30000.0       NaN   Other   \n",
      "104           4            5  45.0  30000.0  New York    Male   \n",
      "\n",
      "     Purchase_Amount Signup_Date Marital_Status Education  \n",
      "100              619  2022-01-01        Widowed       PhD  \n",
      "101             1945  2022-01-02         Single       PhD  \n",
      "102             2783  2022-01-03            NaN    Master  \n",
      "103             3913  2022-01-04        Married  Bachelor  \n",
      "104             4771  2022-01-05        Married       NaN  \n"
     ]
    }
   ],
   "source": [
    "# 2. IDENTIFYING DUPLICATES\n",
    "duplicates = df[df.duplicated()]\n",
    "print(f\"\\nDuplicate Rows:\\n{duplicates}\")\n",
    "#HANDLING DUPLICATES\n",
    "df_no_duplicates = df.drop_duplicates()"
   ]
  },
  {
   "cell_type": "code",
   "execution_count": 60,
   "metadata": {},
   "outputs": [
    {
     "name": "stdout",
     "output_type": "stream",
     "text": [
      "   Unnamed: 0  Customer_ID   Age   Salary      City  Gender  Purchase_Amount  \\\n",
      "0           0            1  40.0  70000.0  New York     NaN              619   \n",
      "1           1            2  45.0  30000.0   Houston  Female             1945   \n",
      "2           2            3  35.0  30000.0  New York    Male             2783   \n",
      "3           3            4  45.0  30000.0       NaN   Other             3913   \n",
      "4           4            5  45.0  30000.0  New York    Male             4771   \n",
      "\n",
      "  Signup_Date Marital_Status Education  \n",
      "0  2022-01-01        Widowed       PhD  \n",
      "1  2022-01-02         Single       PhD  \n",
      "2  2022-01-03            NaN    Master  \n",
      "3  2022-01-04        Married  Bachelor  \n",
      "4  2022-01-05        Married       NaN  \n"
     ]
    }
   ],
   "source": [
    "#3. CATEGORICAL DATA STANDARDIZATION\n",
    "def standardize_categorical(df, column, mapping):\n",
    "    df[column] = df[column].map(mapping)\n",
    "    return df\n",
    "\n",
    "city_mapping = {\n",
    "    'New York': 'New York',\n",
    "    'New-York': 'New York',\n",
    "    'Los Angeles': 'Los Angeles',\n",
    "    'LA': 'Los Angeles',\n",
    "    'Houston': 'Houston',\n",
    "    'Chicago': 'Chicago',\n",
    "    'Phoenix': 'Phoenix'\n",
    "}\n",
    "\n",
    "gender_mapping = {\n",
    "    'Male': 'Male',\n",
    "    'Female': 'Female',\n",
    "    'M': 'Male',\n",
    "    'F': 'Female',\n",
    "    'Other': 'Other',\n",
    "    'nan': np.nan\n",
    "}\n",
    "df = standardize_categorical(df, 'City', city_mapping)\n",
    "df = standardize_categorical(df, 'Gender', gender_mapping)\n",
    "print(df.head())\n"
   ]
  },
  {
   "cell_type": "code",
   "execution_count": 61,
   "metadata": {},
   "outputs": [],
   "source": [
    "#4. OUTLIER DETECTION AND HANDLING\n",
    "#IQR Method\n",
    "def detect_outliers_iqr(df, column):\n",
    "    Q1 = df[column].quantile(0.25)\n",
    "    Q3 = df[column].quantile(0.75)\n",
    "    IQR = Q3 - Q1\n",
    "    lower_bound = Q1 - 1.5 * IQR\n",
    "    upper_bound = Q3 + 1.5 * IQR\n",
    "    return df[(df[column] < lower_bound) | (df[column] > upper_bound)]\n",
    "#Z-Score Method\n",
    "def detect_outliers_zscore(df, column):\n",
    "    z = np.abs(stats.zscore(df[column]))\n",
    "    return df[z > 3]\n",
    "\n",
    "    # Detecting outliers in 'Age' column using IQR method\n",
    "    outliers_iqr_age = detect_outliers_iqr(df, 'Age')\n",
    "    print(f\"Outliers in 'Age' column using IQR method:\\n{outliers_iqr_age}\")\n",
    "\n",
    "    # Detecting outliers in 'Salary' column using Z-Score method\n",
    "    outliers_zscore_salary = detect_outliers_zscore(df, 'Salary')\n",
    "    print(f\"\\nOutliers in 'Salary' column using Z-Score method:\\n{outliers_zscore_salary}\")\n",
    "\n",
    "  "
   ]
  },
  {
   "cell_type": "code",
   "execution_count": 62,
   "metadata": {},
   "outputs": [
    {
     "data": {
      "text/html": [
       "<div>\n",
       "<style scoped>\n",
       "    .dataframe tbody tr th:only-of-type {\n",
       "        vertical-align: middle;\n",
       "    }\n",
       "\n",
       "    .dataframe tbody tr th {\n",
       "        vertical-align: top;\n",
       "    }\n",
       "\n",
       "    .dataframe thead th {\n",
       "        text-align: right;\n",
       "    }\n",
       "</style>\n",
       "<table border=\"1\" class=\"dataframe\">\n",
       "  <thead>\n",
       "    <tr style=\"text-align: right;\">\n",
       "      <th></th>\n",
       "      <th>Unnamed: 0</th>\n",
       "      <th>Customer_ID</th>\n",
       "      <th>Age</th>\n",
       "      <th>Salary</th>\n",
       "      <th>City</th>\n",
       "      <th>Gender</th>\n",
       "      <th>Purchase_Amount</th>\n",
       "      <th>Signup_Date</th>\n",
       "      <th>Marital_Status</th>\n",
       "      <th>Education</th>\n",
       "      <th>Age_Group</th>\n",
       "    </tr>\n",
       "  </thead>\n",
       "  <tbody>\n",
       "    <tr>\n",
       "      <th>0</th>\n",
       "      <td>0</td>\n",
       "      <td>1</td>\n",
       "      <td>40.0</td>\n",
       "      <td>70000.0</td>\n",
       "      <td>New York</td>\n",
       "      <td>NaN</td>\n",
       "      <td>619</td>\n",
       "      <td>2022-01-01</td>\n",
       "      <td>Widowed</td>\n",
       "      <td>PhD</td>\n",
       "      <td>Middle-Aged</td>\n",
       "    </tr>\n",
       "    <tr>\n",
       "      <th>1</th>\n",
       "      <td>1</td>\n",
       "      <td>2</td>\n",
       "      <td>45.0</td>\n",
       "      <td>30000.0</td>\n",
       "      <td>Houston</td>\n",
       "      <td>Female</td>\n",
       "      <td>1945</td>\n",
       "      <td>2022-01-02</td>\n",
       "      <td>Single</td>\n",
       "      <td>PhD</td>\n",
       "      <td>Middle-Aged</td>\n",
       "    </tr>\n",
       "    <tr>\n",
       "      <th>2</th>\n",
       "      <td>2</td>\n",
       "      <td>3</td>\n",
       "      <td>35.0</td>\n",
       "      <td>30000.0</td>\n",
       "      <td>New York</td>\n",
       "      <td>Male</td>\n",
       "      <td>2783</td>\n",
       "      <td>2022-01-03</td>\n",
       "      <td>NaN</td>\n",
       "      <td>Master</td>\n",
       "      <td>Middle-Aged</td>\n",
       "    </tr>\n",
       "    <tr>\n",
       "      <th>3</th>\n",
       "      <td>3</td>\n",
       "      <td>4</td>\n",
       "      <td>45.0</td>\n",
       "      <td>30000.0</td>\n",
       "      <td>NaN</td>\n",
       "      <td>Other</td>\n",
       "      <td>3913</td>\n",
       "      <td>2022-01-04</td>\n",
       "      <td>Married</td>\n",
       "      <td>Bachelor</td>\n",
       "      <td>Middle-Aged</td>\n",
       "    </tr>\n",
       "    <tr>\n",
       "      <th>4</th>\n",
       "      <td>4</td>\n",
       "      <td>5</td>\n",
       "      <td>45.0</td>\n",
       "      <td>30000.0</td>\n",
       "      <td>New York</td>\n",
       "      <td>Male</td>\n",
       "      <td>4771</td>\n",
       "      <td>2022-01-05</td>\n",
       "      <td>Married</td>\n",
       "      <td>NaN</td>\n",
       "      <td>Middle-Aged</td>\n",
       "    </tr>\n",
       "  </tbody>\n",
       "</table>\n",
       "</div>"
      ],
      "text/plain": [
       "   Unnamed: 0  Customer_ID   Age   Salary      City  Gender  Purchase_Amount  \\\n",
       "0           0            1  40.0  70000.0  New York     NaN              619   \n",
       "1           1            2  45.0  30000.0   Houston  Female             1945   \n",
       "2           2            3  35.0  30000.0  New York    Male             2783   \n",
       "3           3            4  45.0  30000.0       NaN   Other             3913   \n",
       "4           4            5  45.0  30000.0  New York    Male             4771   \n",
       "\n",
       "  Signup_Date Marital_Status Education    Age_Group  \n",
       "0  2022-01-01        Widowed       PhD  Middle-Aged  \n",
       "1  2022-01-02         Single       PhD  Middle-Aged  \n",
       "2  2022-01-03            NaN    Master  Middle-Aged  \n",
       "3  2022-01-04        Married  Bachelor  Middle-Aged  \n",
       "4  2022-01-05        Married       NaN  Middle-Aged  "
      ]
     },
     "execution_count": 62,
     "metadata": {},
     "output_type": "execute_result"
    }
   ],
   "source": [
    "#5.Create Age_Group column\n",
    "def categorize_age(age):\n",
    "    if 18 <= age <= 30:\n",
    "        return 'Young'\n",
    "    elif 31 <= age <= 50:\n",
    "        return 'Middle-Aged'\n",
    "    elif age >= 51:\n",
    "        return 'Senior'\n",
    "    else:\n",
    "        return np.nan\n",
    "df['Age_Group'] = df['Age'].apply(categorize_age)\n",
    "df.head()    \n",
    "\n",
    "\n"
   ]
  },
  {
   "cell_type": "code",
   "execution_count": 1,
   "metadata": {},
   "outputs": [
    {
     "ename": "NameError",
     "evalue": "name 'plt' is not defined",
     "output_type": "error",
     "traceback": [
      "\u001b[1;31m---------------------------------------------------------------------------\u001b[0m",
      "\u001b[1;31mNameError\u001b[0m                                 Traceback (most recent call last)",
      "Cell \u001b[1;32mIn[1], line 3\u001b[0m\n\u001b[0;32m      1\u001b[0m \u001b[38;5;66;03m#\u001b[39;00m\n\u001b[0;32m      2\u001b[0m \u001b[38;5;66;03m# VISUALIZATIONS\u001b[39;00m\n\u001b[1;32m----> 3\u001b[0m \u001b[43mplt\u001b[49m\u001b[38;5;241m.\u001b[39mfigure(figsize\u001b[38;5;241m=\u001b[39m(\u001b[38;5;241m10\u001b[39m, \u001b[38;5;241m6\u001b[39m))\n\u001b[0;32m      4\u001b[0m sns\u001b[38;5;241m.\u001b[39mcountplot(data\u001b[38;5;241m=\u001b[39mdf, x\u001b[38;5;241m=\u001b[39m\u001b[38;5;124m'\u001b[39m\u001b[38;5;124mAge_Group\u001b[39m\u001b[38;5;124m'\u001b[39m)\n\u001b[0;32m      5\u001b[0m plt\u001b[38;5;241m.\u001b[39mtitle(\u001b[38;5;124m'\u001b[39m\u001b[38;5;124mDistribution of Customers by Age Group\u001b[39m\u001b[38;5;124m'\u001b[39m)\n",
      "\u001b[1;31mNameError\u001b[0m: name 'plt' is not defined"
     ]
    }
   ],
   "source": [
    "#\n",
    "# VISUALIZATIONS\n",
    "plt.figure(figsize=(10, 6))\n",
    "sns.countplot(data=df, x='Age_Group')\n",
    "plt.title('Distribution of Customers by Age Group')\n",
    "plt.show()"
   ]
  },
  {
   "cell_type": "code",
   "execution_count": 64,
   "metadata": {},
   "outputs": [
    {
     "data": {
      "image/png": "[encoded data removed]",
      "text/plain": [
       "<Figure size 1400x600 with 3 Axes>"
      ]
     },
     "metadata": {},
     "output_type": "display_data"
    }
   ],
   "source": [
    "#6. DATA TRANSFORMATION\n",
    "scaler_minmax = MinMaxScaler()\n",
    "scaler_standard = StandardScaler()\n",
    "\n",
    "df['Purchase_Amount_MinMax'] = scaler_minmax.fit_transform(df[['Purchase_Amount']])\n",
    "df['Purchase_Amount_Standard'] = scaler_standard.fit_transform(df[['Purchase_Amount']])\n",
    "\n",
    "plt.figure(figsize=(14, 6))\n",
    "\n",
    "plt.subplot(1, 3, 1)\n",
    "sns.histplot(df['Purchase_Amount'], bins=20, kde=True)\n",
    "plt.title('Original Purchase Amount')\n",
    "\n",
    "plt.subplot(1, 3, 2)\n",
    "sns.histplot(df['Purchase_Amount_MinMax'], bins=20, kde=True)\n",
    "plt.title('Min-Max Scaled Purchase Amount')\n",
    "\n",
    "plt.subplot(1, 3, 3)\n",
    "sns.histplot(df['Purchase_Amount_Standard'], bins=20, kde=True)\n",
    "plt.title('Standardized Purchase Amount')\n",
    "\n",
    "plt.tight_layout()\n",
    "plt.show()"
   ]
  },
  {
   "cell_type": "code",
   "execution_count": 66,
   "metadata": {},
   "outputs": [
    {
     "name": "stdout",
     "output_type": "stream",
     "text": [
      "\n",
      "One-Hot Encoded DataFrame:\n",
      "   Unnamed: 0  Customer_ID   Age   Salary  Purchase_Amount Signup_Date  \\\n",
      "0           0            1  40.0  70000.0              619  2022-01-01   \n",
      "1           1            2  45.0  30000.0             1945  2022-01-02   \n",
      "2           2            3  35.0  30000.0             2783  2022-01-03   \n",
      "3           3            4  45.0  30000.0             3913  2022-01-04   \n",
      "4           4            5  45.0  30000.0             4771  2022-01-05   \n",
      "\n",
      "     Age_Group  Purchase_Amount_MinMax  Purchase_Amount_Standard  \\\n",
      "0  Middle-Aged                0.114628                 -1.431984   \n",
      "1  Middle-Aged                0.383648                 -0.513162   \n",
      "2  Middle-Aged                0.553662                  0.067511   \n",
      "3  Middle-Aged                0.782917                  0.850519   \n",
      "4  Middle-Aged                0.956989                  1.445050   \n",
      "\n",
      "   City_Chicago  ...  Gender_Other  Marital_Status_Divorced  \\\n",
      "0         False  ...         False                    False   \n",
      "1         False  ...         False                    False   \n",
      "2         False  ...         False                    False   \n",
      "3         False  ...          True                    False   \n",
      "4         False  ...         False                    False   \n",
      "\n",
      "   Marital_Status_Married  Marital_Status_Single  Marital_Status_Widowed  \\\n",
      "0                   False                  False                    True   \n",
      "1                   False                   True                   False   \n",
      "2                   False                  False                   False   \n",
      "3                    True                  False                   False   \n",
      "4                    True                  False                   False   \n",
      "\n",
      "   Education_Bachelor  Education_High School  Education_Master  Education_PhD  \\\n",
      "0               False                  False             False           True   \n",
      "1               False                  False             False           True   \n",
      "2               False                  False              True          False   \n",
      "3                True                  False             False          False   \n",
      "4               False                  False             False          False   \n",
      "\n",
      "   Education_bachelor  \n",
      "0               False  \n",
      "1               False  \n",
      "2               False  \n",
      "3               False  \n",
      "4               False  \n",
      "\n",
      "[5 rows x 26 columns]\n"
     ]
    }
   ],
   "source": [
    "#7. ECODING CATEGORICAL VARIABLES\n",
    "# One-Hot Encoding\n",
    "df_onehot = pd.get_dummies(df, columns=['City', 'Gender', 'Marital_Status', 'Education'])\n",
    "\n",
    "\n",
    "\n",
    "print(\"\\nOne-Hot Encoded DataFrame:\")\n",
    "print(df_onehot.head())\n",
    "\n",
    "\n",
    "\n"
   ]
  },
  {
   "cell_type": "code",
   "execution_count": 70,
   "metadata": {},
   "outputs": [
    {
     "name": "stdout",
     "output_type": "stream",
     "text": [
      "\n",
      "Label Encoded DataFrame:\n",
      "   Unnamed: 0  Customer_ID   Age   Salary  City  Gender  Purchase_Amount  \\\n",
      "0           0            1  40.0  70000.0     3       3              619   \n",
      "1           1            2  45.0  30000.0     1       0             1945   \n",
      "2           2            3  35.0  30000.0     3       1             2783   \n",
      "3           3            4  45.0  30000.0     5       2             3913   \n",
      "4           4            5  45.0  30000.0     3       1             4771   \n",
      "\n",
      "  Signup_Date  Marital_Status  Education    Age_Group  Purchase_Amount_MinMax  \\\n",
      "0  2022-01-01               3          3  Middle-Aged                0.114628   \n",
      "1  2022-01-02               2          3  Middle-Aged                0.383648   \n",
      "2  2022-01-03               4          2  Middle-Aged                0.553662   \n",
      "3  2022-01-04               1          0  Middle-Aged                0.782917   \n",
      "4  2022-01-05               1          5  Middle-Aged                0.956989   \n",
      "\n",
      "   Purchase_Amount_Standard  \n",
      "0                 -1.431984  \n",
      "1                 -0.513162  \n",
      "2                  0.067511  \n",
      "3                  0.850519  \n",
      "4                  1.445050  \n"
     ]
    }
   ],
   "source": [
    "# Label Encoding\n",
    "label_encoder = LabelEncoder()\n",
    "df_label_encoded = df.copy()\n",
    "for column in ['City', 'Gender', 'Marital_Status', 'Education']:\n",
    "    df_label_encoded[column] = label_encoder.fit_transform(df_label_encoded[column].astype(str))\n",
    "    \n",
    "print(\"\\nLabel Encoded DataFrame:\")\n",
    "print(df_label_encoded.head())\n",
    "    \n"
   ]
  },
  {
   "cell_type": "code",
   "execution_count": 72,
   "metadata": {},
   "outputs": [
    {
     "name": "stdout",
     "output_type": "stream",
     "text": [
      "\n",
      "Target Encoded DataFrame:\n",
      "   Unnamed: 0  Customer_ID   Age   Salary         City       Gender  \\\n",
      "0           0            1  40.0  70000.0  2798.428571          NaN   \n",
      "1           1            2  45.0  30000.0  2599.521739  2177.761905   \n",
      "2           2            3  35.0  30000.0  2798.428571  2925.000000   \n",
      "3           3            4  45.0  30000.0          NaN  3087.500000   \n",
      "4           4            5  45.0  30000.0  2798.428571  2925.000000   \n",
      "\n",
      "   Purchase_Amount Signup_Date  Marital_Status    Education    Age_Group  \\\n",
      "0              619  2022-01-01     2267.619048  2083.272727  Middle-Aged   \n",
      "1             1945  2022-01-02     2688.833333  2083.272727  Middle-Aged   \n",
      "2             2783  2022-01-03             NaN  2993.941176  Middle-Aged   \n",
      "3             3913  2022-01-04     3094.590909  2340.555556  Middle-Aged   \n",
      "4             4771  2022-01-05     3094.590909          NaN  Middle-Aged   \n",
      "\n",
      "   Purchase_Amount_MinMax  Purchase_Amount_Standard  \n",
      "0                0.114628                 -1.431984  \n",
      "1                0.383648                 -0.513162  \n",
      "2                0.553662                  0.067511  \n",
      "3                0.782917                  0.850519  \n",
      "4                0.956989                  1.445050  \n"
     ]
    }
   ],
   "source": [
    "df_target_encoded = df.copy()\n",
    "for column in ['City', 'Gender', 'Marital_Status', 'Education']:\n",
    "    target_mean = df.groupby(column)['Purchase_Amount'].mean()\n",
    "    df_target_encoded[column] = df[column].map(target_mean)\n",
    "\n",
    "\n",
    "print(\"\\nTarget Encoded DataFrame:\")\n",
    "print(df_target_encoded.head())\n",
    "    "
   ]
  }
 ],
 "metadata": {
  "kernelspec": {
   "display_name": "Python 3",
   "language": "python",
   "name": "python3"
  },
  "language_info": {
   "codemirror_mode": {
    "name": "ipython",
    "version": 3
   },
   "file_extension": ".py",
   "mimetype": "text/x-python",
   "name": "python",
   "nbconvert_exporter": "python",
   "pygments_lexer": "ipython3",
   "version": "3.13.2"
  }
 },
 "nbformat": 4,
 "nbformat_minor": 2
}
