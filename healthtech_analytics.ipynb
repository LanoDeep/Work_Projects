{
 "cells": [
  {
   "cell_type": "code",
   "execution_count": 13,
   "metadata": {},
   "outputs": [],
   "source": [
    "import sqlite3\n",
    "import pandas as pd\n",
    "import seaborn as sns\n",
    "import matplotlib.pyplot as plt\n"
   ]
  },
  {
   "cell_type": "code",
   "execution_count": 14,
   "metadata": {},
   "outputs": [],
   "source": [
    "#1. Data Setup & Exploration(Connect to the database using Python)\n",
    "conn = sqlite3.connect(':memory:')\n",
    "cursor = conn.cursor()"
   ]
  },
  {
   "cell_type": "code",
   "execution_count": 15,
   "metadata": {},
   "outputs": [],
   "source": [
    "cursor.execute('''\n",
    "CREATE TABLE patients (\n",
    "    id INTEGER PRIMARY KEY,\n",
    "    name TEXT NOT NULL,\n",
    "    age INTEGER NOT NULL,\n",
    "    gender TEXT NOT NULL\n",
    ")\n",
    "''')\n",
    "conn.commit()"
   ]
  },
  {
   "cell_type": "code",
   "execution_count": 16,
   "metadata": {
    "vscode": {
     "languageId": "sql"
    }
   },
   "outputs": [
    {
     "data": {
      "text/plain": [
       "<sqlite3.Cursor at 0x1ab869cf640>"
      ]
     },
     "execution_count": 16,
     "metadata": {},
     "output_type": "execute_result"
    }
   ],
   "source": [
    "\n",
    "cursor.execute('''\n",
    "CREATE TABLE visits (\n",
    "  visit_id INTEGER PRIMARY KEY,\n",
    "    patient_id INTEGER,\n",
    "    visit_date TEXT,\n",
    "    doctor_id INTEGER,\n",
    "    diagnosis_code TEXT,\n",
    "    FOREIGN KEY (patient_id) REFERENCES patients(id),\n",
    "    FOREIGN KEY (doctor_id) REFERENCES doctors(doctor_id),\n",
    "    FOREIGN KEY (diagnosis_code) REFERENCES diagnoses(diagnosis_code)\n",
    ")\n",
    "''')\n",
    "conn.commit()\n",
    "\n",
    "cursor.execute('''\n",
    "CREATE TABLE doctors (\n",
    "    doctor_id INTEGER PRIMARY KEY,\n",
    "    name TEXT,\n",
    "    department TEXT\n",
    ");\n",
    "''')\n",
    "\n",
    "\n",
    "cursor.execute('''\n",
    "CREATE TABLE treatments (\n",
    "    treatment_id INTEGER PRIMARY KEY,\n",
    "    visit_id INTEGER,\n",
    "    treatment_name TEXT,\n",
    "    treatment_cost REAL,\n",
    "    FOREIGN KEY (visit_id) REFERENCES visits(visit_id)\n",
    ");\n",
    "''')\n",
    "\n",
    "\n",
    "cursor.execute('''\n",
    "CREATE TABLE diagnoses (\n",
    "    diagnosis_code TEXT PRIMARY KEY,\n",
    "    diagnosis_description TEXT\n",
    ");\n",
    "''')\n"
   ]
  },
  {
   "cell_type": "code",
   "execution_count": 17,
   "metadata": {},
   "outputs": [],
   "source": [
    "#Inserting Data Into Tables\n",
    "cursor.executemany('''\n",
    "INSERT INTO patients (id, name, age, gender)\n",
    "VALUES (?, ?, ?, ?)\n",
    "''', [\n",
    "    (1, 'Alice', 25, 'F'),\n",
    "    (2, 'Bob', 30, 'M'),\n",
    "    (3, 'Charlie', 35, 'M')\n",
    "])\n",
    "\n",
    "\n",
    "cursor.executemany('''\n",
    "INSERT INTO doctors (doctor_id, name, department)\n",
    "VALUES (?, ?, ?)\n",
    "''', [\n",
    "    (1, 'Dr. Smith', 'Cardiology'),\n",
    "    (2, 'Dr. Johnson', 'Neurology')\n",
    "])\n",
    "\n",
    "\n",
    "cursor.executemany('''\n",
    "INSERT INTO diagnoses (diagnosis_code, diagnosis_description)\n",
    "VALUES (?, ?)\n",
    "''', [\n",
    "    ('D001', 'Flu'),\n",
    "    ('D002', 'Cold'),\n",
    "    ('D003', 'Headache')\n",
    "])\n",
    "\n",
    "cursor.executemany('''\n",
    "INSERT INTO visits (visit_id, patient_id, visit_date, doctor_id, diagnosis_code)\n",
    "VALUES (?, ?, ?, ?, ?)\n",
    "''', [\n",
    "    (1, 1, '2023-01-01', 1, 'D001'),\n",
    "    (2, 2, '2023-01-02', 2, 'D002'),\n",
    "    (3, 3, '2023-01-03', 1, 'D003')\n",
    "])\n",
    "\n",
    "# Insert data into the treatments table\n",
    "cursor.executemany('''\n",
    "INSERT INTO treatments (treatment_id, visit_id, treatment_name, treatment_cost)\n",
    "VALUES (?, ?, ?, ?)\n",
    "''', [\n",
    "    (1, 1, 'Antibiotics', 50.0),\n",
    "    (2, 2, 'Cough Syrup', 20.0),\n",
    "    (3, 3, 'Painkillers', 30.0)\n",
    "])\n",
    "\n",
    "conn.commit()"
   ]
  },
  {
   "cell_type": "code",
   "execution_count": 18,
   "metadata": {},
   "outputs": [
    {
     "name": "stdout",
     "output_type": "stream",
     "text": [
      "Data from table: patients\n",
      "   id     name  age gender\n",
      "0   1    Alice   25      F\n",
      "1   2      Bob   30      M\n",
      "2   3  Charlie   35      M\n",
      "\n",
      "\n",
      "Data from table: visits\n",
      "   visit_id  patient_id  visit_date  doctor_id diagnosis_code\n",
      "0         1           1  2023-01-01          1           D001\n",
      "1         2           2  2023-01-02          2           D002\n",
      "2         3           3  2023-01-03          1           D003\n",
      "\n",
      "\n",
      "Data from table: doctors\n",
      "   doctor_id         name  department\n",
      "0          1    Dr. Smith  Cardiology\n",
      "1          2  Dr. Johnson   Neurology\n",
      "\n",
      "\n",
      "Data from table: treatments\n",
      "   treatment_id  visit_id treatment_name  treatment_cost\n",
      "0             1         1    Antibiotics            50.0\n",
      "1             2         2    Cough Syrup            20.0\n",
      "2             3         3    Painkillers            30.0\n",
      "\n",
      "\n",
      "Data from table: diagnoses\n",
      "  diagnosis_code diagnosis_description\n",
      "0           D001                   Flu\n",
      "1           D002                  Cold\n",
      "2           D003              Headache\n",
      "\n",
      "\n"
     ]
    }
   ],
   "source": [
    "cursor.execute(\"SELECT name FROM sqlite_master WHERE type='table';\")\n",
    "tables = cursor.fetchall()\n",
    "\n",
    "for table_name, in tables:\n",
    "    print(f\"Data from table: {table_name}\")\n",
    "    query = f\"SELECT * FROM {table_name}\"\n",
    "    df = pd.read_sql_query(query, conn)\n",
    "    print(df)\n",
    "    print(\"\\n\")"
   ]
  },
  {
   "cell_type": "code",
   "execution_count": 19,
   "metadata": {},
   "outputs": [
    {
     "data": {
      "image/png": "[encoded data removed]",
      "text/plain": [
       "<Figure size 640x480 with 1 Axes>"
      ]
     },
     "metadata": {},
     "output_type": "display_data"
    }
   ],
   "source": [
    "#Number of patients by city.\n",
    "cursor.execute('ALTER TABLE patients ADD COLUMN city TEXT')\n",
    "cursor.executemany('''\n",
    "UPDATE patients\n",
    "SET city = ?\n",
    "WHERE id = ?\n",
    "''', [\n",
    "    ('New York', 1),\n",
    "    ('Los Angeles', 2),\n",
    "    ('New York', 3)\n",
    "])\n",
    "conn.commit()\n",
    "\n",
    "\n",
    "query = '''\n",
    "SELECT city, COUNT(*) as patient_count\n",
    "FROM patients\n",
    "GROUP BY city\n",
    "'''\n",
    "city_data = pd.read_sql_query(query, conn)\n",
    "\n",
    "\n",
    "sns.barplot(data=city_data, x='city', y='patient_count')\n",
    "plt.title('Number of Patients by City')\n",
    "plt.xlabel('City')\n",
    "plt.ylabel('Number of Patients')\n",
    "plt.show()"
   ]
  },
  {
   "cell_type": "code",
   "execution_count": null,
   "metadata": {},
   "outputs": [
    {
     "name": "stdout",
     "output_type": "stream",
     "text": [
      "   department  diagnosis_count\n",
      "0  Cardiology                2\n",
      "1   Neurology                1\n",
      "   visit_id  visit_date patient_name  doctor_name  department  \\\n",
      "0         1  2023-01-01        Alice    Dr. Smith  Cardiology   \n",
      "1         2  2023-01-02          Bob  Dr. Johnson   Neurology   \n",
      "2         3  2023-01-03      Charlie    Dr. Smith  Cardiology   \n",
      "\n",
      "  diagnosis_description  \n",
      "0                   Flu  \n",
      "1                  Cold  \n",
      "2              Headache  \n"
     ]
    }
   ],
   "source": [
    "#2. Diagnosis Trends by Department\n",
    "\n",
    "query = '''\n",
    "SELECT d.department, COUNT(v.diagnosis_code) AS diagnosis_count\n",
    "FROM visits v\n",
    "JOIN doctors d ON v.doctor_id = d.doctor_id\n",
    "GROUP BY d.department\n",
    "'''\n",
    "diagnosis_trends = pd.read_sql_query(query, conn)\n",
    "print(diagnosis_trends)\n",
    "\n",
    "#JOINING TABLES\n",
    "query = '''\n",
    "SELECT v.visit_id, v.visit_date, p.name AS patient_name, d.name AS doctor_name, \n",
    "    d.department, diag.diagnosis_description\n",
    "FROM visits v\n",
    "JOIN patients p ON v.patient_id = p.id\n",
    "JOIN doctors d ON v.doctor_id = d.doctor_id\n",
    "JOIN diagnoses diag ON v.diagnosis_code = diag.diagnosis_code\n",
    "'''\n",
    "results_df = pd.read_sql_query(query, conn)\n",
    "print(results_df)\n",
    "\n",
    "#INTERPRETATION\n",
    "#The data shows that the Cardiology department handled 2 diagnoses, while the Neurology department handled 1 diagnosis\n",
    "#The detailed visit information provides insights into each visit, including the visit date, patient name, doctor name, department, and diagnosis description:\n",
    "\n",
    "#On 2023-01-01, Alice visited Dr. Smith in the Cardiology department and was diagnosed with Flu.\n",
    "#On 2023-01-02, Bob visited Dr. Johnson in the Neurology department and was diagnosed with Cold.\n",
    "#On 2023-01-03, Charlie visited Dr. Smith in the Cardiology department and was diagnosed with Headach\n",
    "\n"
   ]
  },
  {
   "cell_type": "code",
   "execution_count": 21,
   "metadata": {},
   "outputs": [
    {
     "name": "stdout",
     "output_type": "stream",
     "text": [
      "  patient_name  total_treatment_cost\n",
      "0        Alice                  50.0\n",
      "1          Bob                  20.0\n",
      "2      Charlie                  30.0\n"
     ]
    },
    {
     "data": {
      "image/png": "[encoded data removed]",
      "text/plain": [
       "<Figure size 640x480 with 1 Axes>"
      ]
     },
     "metadata": {},
     "output_type": "display_data"
    }
   ],
   "source": [
    "#3. Cost Analysis per Patient\n",
    "query = '''\n",
    "SELECT p.name AS patient_name, SUM(t.treatment_cost) AS total_treatment_cost\n",
    "FROM treatments t\n",
    "JOIN visits v ON t.visit_id = v.visit_id\n",
    "JOIN patients p ON v.patient_id = p.id\n",
    "GROUP BY p.name\n",
    "'''\n",
    "treatment_costs = pd.read_sql_query(query, conn)\n",
    "print(treatment_costs)\n",
    "\n",
    "sns.barplot(data=treatment_costs, x='total_treatment_cost', y='patient_name', orient='h')\n",
    "plt.title('Total Treatment Cost per Patient')\n",
    "plt.xlabel('Total Treatment Cost')\n",
    "plt.ylabel('Patient Name')\n",
    "plt.show()\n"
   ]
  },
  {
   "cell_type": "code",
   "execution_count": 22,
   "metadata": {},
   "outputs": [
    {
     "name": "stdout",
     "output_type": "stream",
     "text": [
      "Duplicate Patients:\n",
      "Empty DataFrame\n",
      "Columns: [name, gender, count]\n",
      "Index: []\n",
      "\n",
      "Invalid Treatments:\n",
      "Empty DataFrame\n",
      "Columns: [treatment_id, visit_id, treatment_name, treatment_cost]\n",
      "Index: []\n",
      "\n",
      "No duplicate patient records found.\n",
      "\n",
      "No invalid treatment costs found.\n"
     ]
    }
   ],
   "source": [
    "#4. Data Quality & Anomaly Detection\n",
    "\n",
    "query_duplicates = '''\n",
    "SELECT name, gender, COUNT(*) as count\n",
    "FROM patients\n",
    "GROUP BY name, gender\n",
    "HAVING count > 1\n",
    "'''\n",
    "duplicate_patients = pd.read_sql_query(query_duplicates, conn)\n",
    "print(\"Duplicate Patients:\")\n",
    "print(duplicate_patients)\n",
    "\n",
    "query_invalid_treatments = '''\n",
    "SELECT *\n",
    "FROM treatments\n",
    "WHERE treatment_cost <= 0\n",
    "'''\n",
    "invalid_treatments = pd.read_sql_query(query_invalid_treatments, conn)\n",
    "print(\"\\nInvalid Treatments:\")\n",
    "print(invalid_treatments)\n",
    "\n",
    "if not duplicate_patients.empty:\n",
    "    print(\"\\nHandling duplicate patient records...\")\n",
    "    patients_df.drop_duplicates(subset=['name', 'gender'], keep='first', inplace=True)\n",
    "    print(\"Duplicates removed. Updated patients data:\")\n",
    "    print(patients_df)\n",
    "else:\n",
    "    print(\"\\nNo duplicate patient records found.\")\n",
    "\n",
    "if not invalid_treatments.empty:\n",
    "    print(\"\\nHandling invalid treatment costs...\")\n",
    "    for index, row in invalid_treatments.iterrows():\n",
    "        cursor.execute('DELETE FROM treatments WHERE treatment_id = ?', (row['treatment_id'],))\n",
    "    conn.commit()\n",
    "    print(\"Invalid treatments removed.\")\n",
    "else:\n",
    "    print(\"\\nNo invalid treatment costs found.\")"
   ]
  },
  {
   "cell_type": "code",
   "execution_count": 23,
   "metadata": {},
   "outputs": [
    {
     "name": "stdout",
     "output_type": "stream",
     "text": [
      "Patients with more than 5 visits in the last year:\n",
      "Empty DataFrame\n",
      "Columns: [patient_name, visit_count]\n",
      "Index: []\n",
      "\n",
      "Visit frequency across months:\n",
      "  visit_month  visit_count\n",
      "0     2023-01            3\n"
     ]
    },
    {
     "data": {
      "image/png": "[encoded data removed]",
      "text/plain": [
       "<Figure size 640x480 with 1 Axes>"
      ]
     },
     "metadata": {},
     "output_type": "display_data"
    }
   ],
   "source": [
    "#5. Advanced Insight – Frequent Patients & Visit Patterns\n",
    "\n",
    "#Identifying patients with more than 5 visits in the last year\n",
    "query_frequent_patients = \"\"\"\n",
    "SELECT p.name AS patient_name, COUNT(v.visit_id) AS visit_count\n",
    "FROM visits v\n",
    "JOIN patients p ON v.patient_id = p.id\n",
    "WHERE v.visit_date >= DATE('now', '-1 year')\n",
    "GROUP BY p.name\n",
    "HAVING visit_count > 5\n",
    "\"\"\"\n",
    "frequent_patients = pd.read_sql_query(query_frequent_patients, conn)\n",
    "print(\"Patients with more than 5 visits in the last year:\")\n",
    "print(frequent_patients)\n",
    "\n",
    "#visit frequency across months\n",
    "query_monthly_visits = \"\"\"\n",
    "SELECT strftime('%Y-%m', visit_date) AS visit_month, COUNT(visit_id) AS visit_count\n",
    "FROM visits\n",
    "GROUP BY visit_month\n",
    "ORDER BY visit_month\n",
    "\"\"\"\n",
    "monthly_visits = pd.read_sql_query(query_monthly_visits, conn)\n",
    "print(\"\\nVisit frequency across months:\")\n",
    "print(monthly_visits)\n",
    "\n",
    "sns.lineplot(data=monthly_visits, x='visit_month', y='visit_count', marker='o')\n",
    "plt.title('Monthly Visit Trends')\n",
    "plt.xlabel('Month')\n",
    "plt.ylabel('Visit Count')\n",
    "plt.xticks(rotation=45)\n",
    "plt.show()\n",
    "\n"
   ]
  }
 ],
 "metadata": {
  "kernelspec": {
   "display_name": "Python 3",
   "language": "python",
   "name": "python3"
  },
  "language_info": {
   "codemirror_mode": {
    "name": "ipython",
    "version": 3
   },
   "file_extension": ".py",
   "mimetype": "text/x-python",
   "name": "python",
   "nbconvert_exporter": "python",
   "pygments_lexer": "ipython3",
   "version": "3.13.2"
  }
 },
 "nbformat": 4,
 "nbformat_minor": 2
}
